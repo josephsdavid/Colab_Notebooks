{
  "nbformat": 4,
  "nbformat_minor": 0,
  "metadata": {
    "colab": {
      "name": "DyingRelu.ipynb",
      "provenance": [],
      "authorship_tag": "ABX9TyNXXJNuNiUnWKKdEWKgqJ+e",
      "include_colab_link": true
    },
    "kernelspec": {
      "name": "python3",
      "display_name": "Python 3"
    },
    "accelerator": "GPU"
  },
  "cells": [
    {
      "cell_type": "markdown",
      "metadata": {
        "id": "view-in-github",
        "colab_type": "text"
      },
      "source": [
        "<a href=\"https://colab.research.google.com/github/josephsdavid/Colab_Notebooks/blob/master/DyingRelu.ipynb\" target=\"_parent\"><img src=\"https://colab.research.google.com/assets/colab-badge.svg\" alt=\"Open In Colab\"/></a>"
      ]
    },
    {
      "cell_type": "code",
      "metadata": {
        "id": "ShMXzbesjn7b",
        "colab_type": "code",
        "colab": {
          "base_uri": "https://localhost:8080/",
          "height": 35
        },
        "outputId": "f99745a7-381d-4c32-839a-9b6489bb68bb"
      },
      "source": [
        "#!pip install tensorflow --upgrade\n",
        "import tensorflow as tf\n",
        "import matplotlib.pyplot as plt\n",
        "from tensorflow.keras.models import Model\n",
        "from tensorflow.keras.layers import Dense, Input\n",
        "import numpy as np\n",
        "print(tf.__version__)"
      ],
      "execution_count": 23,
      "outputs": [
        {
          "output_type": "stream",
          "text": [
            "2.1.0\n"
          ],
          "name": "stdout"
        }
      ]
    },
    {
      "cell_type": "code",
      "metadata": {
        "id": "t0CmS0nymJjT",
        "colab_type": "code",
        "colab": {}
      },
      "source": [
        "def narrow_relu_net(n_layers):\n",
        "  input = Input(shape=(1,))\n",
        "  x = input\n",
        "  for i in range(n_layers):\n",
        "    x = Dense(2, activation='relu')(x)\n",
        "  output = Dense(1, activation='sigmoid')(x)\n",
        "  return Model(input, output)\n"
      ],
      "execution_count": 0,
      "outputs": []
    },
    {
      "cell_type": "code",
      "metadata": {
        "id": "NpZcyOAUlUqN",
        "colab_type": "code",
        "colab": {}
      },
      "source": [
        "\n",
        "net = narrow_relu_net(20)\n",
        "net.compile\n",
        "('adam', 'mse')\n",
        "print(net.summary())\n"
      ],
      "execution_count": 0,
      "outputs": []
    },
    {
      "cell_type": "code",
      "metadata": {
        "id": "z0R7sxvemhL5",
        "colab_type": "code",
        "colab": {
          "base_uri": "https://localhost:8080/",
          "height": 283
        },
        "outputId": "f6706b55-d466-4431-ab5a-35218a977e55"
      },
      "source": [
        "x = np.linspace(start=-1, stop=1, num=5000)\n",
        "y=np.abs(x)\n",
        "\n",
        "plt.plot(y)"
      ],
      "execution_count": 30,
      "outputs": [
        {
          "output_type": "execute_result",
          "data": {
            "text/plain": [
              "[<matplotlib.lines.Line2D at 0x7f045c1acf28>]"
            ]
          },
          "metadata": {
            "tags": []
          },
          "execution_count": 30
        },
        {
          "output_type": "display_data",
          "data": {
            "image/png": "[encoded data removed]",
            "text/plain": [
              "<Figure size 432x288 with 1 Axes>"
            ]
          },
          "metadata": {
            "tags": []
          }
        }
      ]
    },
    {
      "cell_type": "code",
      "metadata": {
        "id": "xlLtf_xnm3t0",
        "colab_type": "code",
        "colab": {
          "base_uri": "https://localhost:8080/",
          "height": 1000
        },
        "outputId": "8cff7eef-b79a-4445-840f-2388e2afd796"
      },
      "source": [
        "net.fit(x,y, epochs=100, batch_size=100)"
      ],
      "execution_count": 33,
      "outputs": [
        {
          "output_type": "stream",
          "text": [
            "Train on 5000 samples\n",
            "Epoch 1/100\n",
            "5000/5000 [==============================] - 1s 119us/sample - loss: 0.3095\n",
            "Epoch 2/100\n",
            "5000/5000 [==============================] - 0s 39us/sample - loss: 0.3075\n",
            "Epoch 3/100\n",
            "5000/5000 [==============================] - 0s 41us/sample - loss: 0.3053\n",
            "Epoch 4/100\n",
            "5000/5000 [==============================] - 0s 39us/sample - loss: 0.3028\n",
            "Epoch 5/100\n",
            "5000/5000 [==============================] - 0s 40us/sample - loss: 0.3001\n",
            "Epoch 6/100\n",
            "5000/5000 [==============================] - 0s 43us/sample - loss: 0.2972\n",
            "Epoch 7/100\n",
            "5000/5000 [==============================] - 0s 39us/sample - loss: 0.2939\n",
            "Epoch 8/100\n",
            "5000/5000 [==============================] - 0s 40us/sample - loss: 0.2903\n",
            "Epoch 9/100\n",
            "5000/5000 [==============================] - 0s 40us/sample - loss: 0.2864\n",
            "Epoch 10/100\n",
            "5000/5000 [==============================] - 0s 40us/sample - loss: 0.2822\n",
            "Epoch 11/100\n",
            "5000/5000 [==============================] - 0s 43us/sample - loss: 0.2776\n",
            "Epoch 12/100\n",
            "5000/5000 [==============================] - 0s 40us/sample - loss: 0.2727\n",
            "Epoch 13/100\n",
            "5000/5000 [==============================] - 0s 39us/sample - loss: 0.2674\n",
            "Epoch 14/100\n",
            "5000/5000 [==============================] - 0s 39us/sample - loss: 0.2618\n",
            "Epoch 15/100\n",
            "5000/5000 [==============================] - 0s 41us/sample - loss: 0.2558\n",
            "Epoch 16/100\n",
            "5000/5000 [==============================] - 0s 41us/sample - loss: 0.2494\n",
            "Epoch 17/100\n",
            "5000/5000 [==============================] - 0s 38us/sample - loss: 0.2428\n",
            "Epoch 18/100\n",
            "5000/5000 [==============================] - 0s 41us/sample - loss: 0.2359\n",
            "Epoch 19/100\n",
            "5000/5000 [==============================] - 0s 40us/sample - loss: 0.2287\n",
            "Epoch 20/100\n",
            "5000/5000 [==============================] - 0s 40us/sample - loss: 0.2213\n",
            "Epoch 21/100\n",
            "5000/5000 [==============================] - 0s 41us/sample - loss: 0.2137\n",
            "Epoch 22/100\n",
            "5000/5000 [==============================] - 0s 39us/sample - loss: 0.2060\n",
            "Epoch 23/100\n",
            "5000/5000 [==============================] - 0s 39us/sample - loss: 0.1983\n",
            "Epoch 24/100\n",
            "5000/5000 [==============================] - 0s 39us/sample - loss: 0.1905\n",
            "Epoch 25/100\n",
            "5000/5000 [==============================] - 0s 39us/sample - loss: 0.1828\n",
            "Epoch 26/100\n",
            "5000/5000 [==============================] - 0s 38us/sample - loss: 0.1752\n",
            "Epoch 27/100\n",
            "5000/5000 [==============================] - 0s 39us/sample - loss: 0.1678\n",
            "Epoch 28/100\n",
            "5000/5000 [==============================] - 0s 40us/sample - loss: 0.1606\n",
            "Epoch 29/100\n",
            "5000/5000 [==============================] - 0s 38us/sample - loss: 0.1537\n",
            "Epoch 30/100\n",
            "5000/5000 [==============================] - 0s 41us/sample - loss: 0.1471\n",
            "Epoch 31/100\n",
            "5000/5000 [==============================] - 0s 43us/sample - loss: 0.1408\n",
            "Epoch 32/100\n",
            "5000/5000 [==============================] - 0s 41us/sample - loss: 0.1349\n",
            "Epoch 33/100\n",
            "5000/5000 [==============================] - 0s 39us/sample - loss: 0.1294\n",
            "Epoch 34/100\n",
            "5000/5000 [==============================] - 0s 43us/sample - loss: 0.1243\n",
            "Epoch 35/100\n",
            "5000/5000 [==============================] - 0s 42us/sample - loss: 0.1196\n",
            "Epoch 36/100\n",
            "5000/5000 [==============================] - 0s 41us/sample - loss: 0.1153\n",
            "Epoch 37/100\n",
            "5000/5000 [==============================] - 0s 43us/sample - loss: 0.1113\n",
            "Epoch 38/100\n",
            "5000/5000 [==============================] - 0s 40us/sample - loss: 0.1078\n",
            "Epoch 39/100\n",
            "5000/5000 [==============================] - 0s 43us/sample - loss: 0.1045\n",
            "Epoch 40/100\n",
            "5000/5000 [==============================] - 0s 39us/sample - loss: 0.1017\n",
            "Epoch 41/100\n",
            "5000/5000 [==============================] - 0s 41us/sample - loss: 0.0991\n",
            "Epoch 42/100\n",
            "5000/5000 [==============================] - 0s 43us/sample - loss: 0.0969\n",
            "Epoch 43/100\n",
            "5000/5000 [==============================] - 0s 41us/sample - loss: 0.0949\n",
            "Epoch 44/100\n",
            "5000/5000 [==============================] - 0s 41us/sample - loss: 0.0932\n",
            "Epoch 45/100\n",
            "5000/5000 [==============================] - 0s 40us/sample - loss: 0.0917\n",
            "Epoch 46/100\n",
            "5000/5000 [==============================] - 0s 41us/sample - loss: 0.0903\n",
            "Epoch 47/100\n",
            "5000/5000 [==============================] - 0s 41us/sample - loss: 0.0892\n",
            "Epoch 48/100\n",
            "5000/5000 [==============================] - 0s 40us/sample - loss: 0.0882\n",
            "Epoch 49/100\n",
            "5000/5000 [==============================] - 0s 42us/sample - loss: 0.0874\n",
            "Epoch 50/100\n",
            "5000/5000 [==============================] - 0s 39us/sample - loss: 0.0867\n",
            "Epoch 51/100\n",
            "5000/5000 [==============================] - 0s 40us/sample - loss: 0.0861\n",
            "Epoch 52/100\n",
            "5000/5000 [==============================] - 0s 45us/sample - loss: 0.0856\n",
            "Epoch 53/100\n",
            "5000/5000 [==============================] - 0s 40us/sample - loss: 0.0852\n",
            "Epoch 54/100\n",
            "5000/5000 [==============================] - 0s 40us/sample - loss: 0.0849\n",
            "Epoch 55/100\n",
            "5000/5000 [==============================] - 0s 44us/sample - loss: 0.0846\n",
            "Epoch 56/100\n",
            "5000/5000 [==============================] - 0s 45us/sample - loss: 0.0843\n",
            "Epoch 57/100\n",
            "5000/5000 [==============================] - 0s 40us/sample - loss: 0.0841\n",
            "Epoch 58/100\n",
            "5000/5000 [==============================] - 0s 42us/sample - loss: 0.0840\n",
            "Epoch 59/100\n",
            "5000/5000 [==============================] - 0s 39us/sample - loss: 0.0839\n",
            "Epoch 60/100\n",
            "5000/5000 [==============================] - 0s 41us/sample - loss: 0.0837\n",
            "Epoch 61/100\n",
            "5000/5000 [==============================] - 0s 43us/sample - loss: 0.0837\n",
            "Epoch 62/100\n",
            "5000/5000 [==============================] - 0s 39us/sample - loss: 0.0836\n",
            "Epoch 63/100\n",
            "5000/5000 [==============================] - 0s 40us/sample - loss: 0.0835\n",
            "Epoch 64/100\n",
            "5000/5000 [==============================] - 0s 45us/sample - loss: 0.0835\n",
            "Epoch 65/100\n",
            "5000/5000 [==============================] - 0s 43us/sample - loss: 0.0835\n",
            "Epoch 66/100\n",
            "5000/5000 [==============================] - 0s 47us/sample - loss: 0.0834\n",
            "Epoch 67/100\n",
            "5000/5000 [==============================] - 0s 41us/sample - loss: 0.0834\n",
            "Epoch 68/100\n",
            "5000/5000 [==============================] - 0s 41us/sample - loss: 0.0834\n",
            "Epoch 69/100\n",
            "5000/5000 [==============================] - 0s 42us/sample - loss: 0.0834\n",
            "Epoch 70/100\n",
            "5000/5000 [==============================] - 0s 40us/sample - loss: 0.0834\n",
            "Epoch 71/100\n",
            "5000/5000 [==============================] - 0s 41us/sample - loss: 0.0834\n",
            "Epoch 72/100\n",
            "5000/5000 [==============================] - 0s 40us/sample - loss: 0.0834\n",
            "Epoch 73/100\n",
            "5000/5000 [==============================] - 0s 41us/sample - loss: 0.0834\n",
            "Epoch 74/100\n",
            "5000/5000 [==============================] - 0s 40us/sample - loss: 0.0834\n",
            "Epoch 75/100\n",
            "5000/5000 [==============================] - 0s 42us/sample - loss: 0.0834\n",
            "Epoch 76/100\n",
            "5000/5000 [==============================] - 0s 44us/sample - loss: 0.0834\n",
            "Epoch 77/100\n",
            "5000/5000 [==============================] - 0s 41us/sample - loss: 0.0834\n",
            "Epoch 78/100\n",
            "5000/5000 [==============================] - 0s 42us/sample - loss: 0.0834\n",
            "Epoch 79/100\n",
            "5000/5000 [==============================] - 0s 43us/sample - loss: 0.0834\n",
            "Epoch 80/100\n",
            "5000/5000 [==============================] - 0s 41us/sample - loss: 0.0834\n",
            "Epoch 81/100\n",
            "5000/5000 [==============================] - 0s 46us/sample - loss: 0.0834\n",
            "Epoch 82/100\n",
            "5000/5000 [==============================] - 0s 41us/sample - loss: 0.0834\n",
            "Epoch 83/100\n",
            "5000/5000 [==============================] - 0s 42us/sample - loss: 0.0834\n",
            "Epoch 84/100\n",
            "5000/5000 [==============================] - 0s 41us/sample - loss: 0.0834\n",
            "Epoch 85/100\n",
            "5000/5000 [==============================] - 0s 39us/sample - loss: 0.0834\n",
            "Epoch 86/100\n",
            "5000/5000 [==============================] - 0s 42us/sample - loss: 0.0834\n",
            "Epoch 87/100\n",
            "5000/5000 [==============================] - 0s 38us/sample - loss: 0.0834\n",
            "Epoch 88/100\n",
            "5000/5000 [==============================] - 0s 39us/sample - loss: 0.0834\n",
            "Epoch 89/100\n",
            "5000/5000 [==============================] - 0s 39us/sample - loss: 0.0834\n",
            "Epoch 90/100\n",
            "5000/5000 [==============================] - 0s 40us/sample - loss: 0.0834\n",
            "Epoch 91/100\n",
            "5000/5000 [==============================] - 0s 41us/sample - loss: 0.0834\n",
            "Epoch 92/100\n",
            "5000/5000 [==============================] - 0s 39us/sample - loss: 0.0834\n",
            "Epoch 93/100\n",
            "5000/5000 [==============================] - 0s 40us/sample - loss: 0.0834\n",
            "Epoch 94/100\n",
            "5000/5000 [==============================] - 0s 40us/sample - loss: 0.0834\n",
            "Epoch 95/100\n",
            "5000/5000 [==============================] - 0s 40us/sample - loss: 0.0834\n",
            "Epoch 96/100\n",
            "5000/5000 [==============================] - 0s 41us/sample - loss: 0.0834\n",
            "Epoch 97/100\n",
            "5000/5000 [==============================] - 0s 40us/sample - loss: 0.0834\n",
            "Epoch 98/100\n",
            "5000/5000 [==============================] - 0s 39us/sample - loss: 0.0834\n",
            "Epoch 99/100\n",
            "5000/5000 [==============================] - 0s 41us/sample - loss: 0.0834\n",
            "Epoch 100/100\n",
            "5000/5000 [==============================] - 0s 45us/sample - loss: 0.0834\n"
          ],
          "name": "stdout"
        },
        {
          "output_type": "execute_result",
          "data": {
            "text/plain": [
              "<tensorflow.python.keras.callbacks.History at 0x7f0454ff80f0>"
            ]
          },
          "metadata": {
            "tags": []
          },
          "execution_count": 33
        }
      ]
    },
    {
      "cell_type": "markdown",
      "metadata": {
        "id": "4BWnnyrfnlFP",
        "colab_type": "text"
      },
      "source": [
        "# Dying Relu\n",
        "\n",
        "\n",
        "For a fixed width, the deeper your net gets, the more likely it is for your nodes to act on the negative half of the relu activation function! This means that the relu nodes are not firing, or not doing anythhing. To learn better, as our networks get deeper, we must make them wider. Try however much you like, it is impossible for a deep relu network to learn the absolute value function! I am still learning about this, but this is really interesting. For actual understanding, please refer to [the paper](https://arxiv.org/abs/1903.06733)"
      ]
    },
    {
      "cell_type": "code",
      "metadata": {
        "id": "9SZYLso5nXZE",
        "colab_type": "code",
        "colab": {
          "base_uri": "https://localhost:8080/",
          "height": 281
        },
        "outputId": "8964ceb8-78db-4dfa-8d96-2d7173a38a97"
      },
      "source": [
        "preds = net.predict(x)\n",
        "\n",
        "plt.plot(y)\n",
        "plt.plot(preds, 'r')\n",
        "plt.title(\"It will never fit!\")\n",
        "plt.show()"
      ],
      "execution_count": 36,
      "outputs": [
        {
          "output_type": "display_data",
          "data": {
            "image/png": "[encoded data removed]",
            "text/plain": [
              "<Figure size 432x288 with 1 Axes>"
            ]
          },
          "metadata": {
            "tags": []
          }
        }
      ]
    },
    {
      "cell_type": "code",
      "metadata": {
        "id": "K-KNj1q8ohna",
        "colab_type": "code",
        "colab": {}
      },
      "source": [
        ""
      ],
      "execution_count": 0,
      "outputs": []
    }
  ]
}